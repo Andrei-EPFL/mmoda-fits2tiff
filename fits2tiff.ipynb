{
 "cells": [
  {
   "cell_type": "code",
   "execution_count": 1,
   "id": "9b9e90b2-3104-463b-a9aa-c4309cd91a43",
   "metadata": {
    "editable": true,
    "slideshow": {
     "slide_type": ""
    },
    "tags": []
   },
   "outputs": [],
   "source": [
    "from astropy.io import fits\n",
    "import tifffile"
   ]
  },
  {
   "cell_type": "code",
   "execution_count": 2,
   "id": "bc02fa5b-38e6-498a-be3e-38a72863dcea",
   "metadata": {
    "editable": true,
    "slideshow": {
     "slide_type": ""
    },
    "tags": [
     "parameters"
    ]
   },
   "outputs": [],
   "source": [
    "file_input = './input.fits' # oda:POSIXPath; oda:label \"Input file\""
   ]
  },
  {
   "cell_type": "code",
   "execution_count": 3,
   "id": "114d36ca-a410-408c-9b8d-90d92d16ffc2",
   "metadata": {
    "editable": true,
    "slideshow": {
     "slide_type": ""
    },
    "tags": []
   },
   "outputs": [],
   "source": [
    "try:\n",
    "    hdul = fits.open(file_input)\n",
    "    data  = hdul[0].data\n",
    "    data = data.astype(data.dtype.newbyteorder('='))\n",
    "except:\n",
    "    raise RuntimeError(\"The input file should have the FITS format.\")"
   ]
  },
  {
   "cell_type": "code",
   "execution_count": 4,
   "id": "50904dd6-e4eb-41e0-9d99-c8f42de1c46f",
   "metadata": {
    "editable": true,
    "slideshow": {
     "slide_type": ""
    },
    "tags": []
   },
   "outputs": [],
   "source": [
    "image_out_path = \"./output.tiff\"\n",
    "tifffile.imwrite(image_out_path, data)"
   ]
  },
  {
   "cell_type": "code",
   "execution_count": 5,
   "id": "a9a2a529-4f67-4d2a-9292-c43d3676b05d",
   "metadata": {
    "editable": true,
    "slideshow": {
     "slide_type": ""
    },
    "tags": [
     "outputs"
    ]
   },
   "outputs": [],
   "source": [
    "file_output = image_out_path"
   ]
  }
 ],
 "metadata": {
  "kernelspec": {
   "display_name": "Python3",
   "language": "python",
   "name": "python3"
  },
  "language_info": {
   "codemirror_mode": {
    "name": "ipython",
    "version": 3
   },
   "file_extension": ".py",
   "mimetype": "text/x-python",
   "name": "python",
   "nbconvert_exporter": "python",
   "pygments_lexer": "ipython3",
   "version": "3.12.11"
  }
 },
 "nbformat": 4,
 "nbformat_minor": 5
}
